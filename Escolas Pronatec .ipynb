{
 "cells": [
  {
   "cell_type": "code",
   "execution_count": 1,
   "metadata": {},
   "outputs": [],
   "source": [
    "#Importando biblioteca\n",
    "import pandas as pd"
   ]
  },
  {
   "cell_type": "code",
   "execution_count": 8,
   "metadata": {},
   "outputs": [],
   "source": [
    "#Convertendo csv para o data frame\n",
    "escolaspronatec = pd.read_csv('C:/Users/eleni/Documents/PDA_UNIDADES_RF_EPCT_CSV.csv', sep=';', encoding='cp1252')\n"
   ]
  },
  {
   "cell_type": "code",
   "execution_count": 9,
   "metadata": {},
   "outputs": [
    {
     "data": {
      "text/html": [
       "<div>\n",
       "<style scoped>\n",
       "    .dataframe tbody tr th:only-of-type {\n",
       "        vertical-align: middle;\n",
       "    }\n",
       "\n",
       "    .dataframe tbody tr th {\n",
       "        vertical-align: top;\n",
       "    }\n",
       "\n",
       "    .dataframe thead th {\n",
       "        text-align: right;\n",
       "    }\n",
       "</style>\n",
       "<table border=\"1\" class=\"dataframe\">\n",
       "  <thead>\n",
       "    <tr style=\"text-align: right;\">\n",
       "      <th></th>\n",
       "      <th>CODIGO_UNIDADE</th>\n",
       "      <th>NOME_UNIDADE</th>\n",
       "      <th>DT_AUTORIZA_FUNCIONA_UNID</th>\n",
       "      <th>NOME_REGIAO_UNIDADE</th>\n",
       "      <th>SIGLA_UF_UNIDADE</th>\n",
       "      <th>NOME_MUNICIPIO_UNIDADE</th>\n",
       "      <th>NOME_MESORREGIAO_UNIDADE</th>\n",
       "      <th>NOME_MICRORREGIAO_UNIDADE</th>\n",
       "    </tr>\n",
       "  </thead>\n",
       "  <tbody>\n",
       "    <tr>\n",
       "      <th>0</th>\n",
       "      <td>2879</td>\n",
       "      <td>INSTITUTO FEDERAL DA BAHIA - CAMPUS EUNÁPOLIS</td>\n",
       "      <td>07-01-2009</td>\n",
       "      <td>Nordeste</td>\n",
       "      <td>BA</td>\n",
       "      <td>Eunápolis</td>\n",
       "      <td>Sul Baiano</td>\n",
       "      <td>Porto Seguro</td>\n",
       "    </tr>\n",
       "    <tr>\n",
       "      <th>1</th>\n",
       "      <td>2948</td>\n",
       "      <td>INSTITUTO FEDERAL BAIANO - CAMPUS ITAPETINGA</td>\n",
       "      <td>07-01-2009</td>\n",
       "      <td>Nordeste</td>\n",
       "      <td>BA</td>\n",
       "      <td>Itapetinga</td>\n",
       "      <td>Centro Sul Baiano</td>\n",
       "      <td>Itapetinga</td>\n",
       "    </tr>\n",
       "    <tr>\n",
       "      <th>2</th>\n",
       "      <td>14328</td>\n",
       "      <td>INSTITUTO FEDERAL DO ACRE - CAMPUS SENA MADUREIRA</td>\n",
       "      <td>30-12-2008</td>\n",
       "      <td>Norte</td>\n",
       "      <td>AC</td>\n",
       "      <td>Sena Madureira</td>\n",
       "      <td>Vale do Acre</td>\n",
       "      <td>Sena Madureira</td>\n",
       "    </tr>\n",
       "    <tr>\n",
       "      <th>3</th>\n",
       "      <td>14547</td>\n",
       "      <td>INSTITUTO FEDERAL DE ALAGOAS - CAMPUS ARAPIRACA</td>\n",
       "      <td>06-07-2010</td>\n",
       "      <td>Nordeste</td>\n",
       "      <td>AL</td>\n",
       "      <td>Arapiraca</td>\n",
       "      <td>Agreste Alagoano</td>\n",
       "      <td>Arapiraca</td>\n",
       "    </tr>\n",
       "    <tr>\n",
       "      <th>4</th>\n",
       "      <td>32010</td>\n",
       "      <td>INSTITUTO FEDERAL DE ALAGOAS - CAMPUS CORURIPE</td>\n",
       "      <td>22-01-2014</td>\n",
       "      <td>Nordeste</td>\n",
       "      <td>AL</td>\n",
       "      <td>Coruripe</td>\n",
       "      <td>Leste Alagoano</td>\n",
       "      <td>São Miguel dos Campos</td>\n",
       "    </tr>\n",
       "  </tbody>\n",
       "</table>\n",
       "</div>"
      ],
      "text/plain": [
       "   CODIGO_UNIDADE                                       NOME_UNIDADE  \\\n",
       "0            2879      INSTITUTO FEDERAL DA BAHIA - CAMPUS EUNÁPOLIS   \n",
       "1            2948       INSTITUTO FEDERAL BAIANO - CAMPUS ITAPETINGA   \n",
       "2           14328  INSTITUTO FEDERAL DO ACRE - CAMPUS SENA MADUREIRA   \n",
       "3           14547    INSTITUTO FEDERAL DE ALAGOAS - CAMPUS ARAPIRACA   \n",
       "4           32010     INSTITUTO FEDERAL DE ALAGOAS - CAMPUS CORURIPE   \n",
       "\n",
       "  DT_AUTORIZA_FUNCIONA_UNID NOME_REGIAO_UNIDADE SIGLA_UF_UNIDADE  \\\n",
       "0                07-01-2009            Nordeste               BA   \n",
       "1                07-01-2009            Nordeste               BA   \n",
       "2                30-12-2008               Norte               AC   \n",
       "3                06-07-2010            Nordeste               AL   \n",
       "4                22-01-2014            Nordeste               AL   \n",
       "\n",
       "  NOME_MUNICIPIO_UNIDADE NOME_MESORREGIAO_UNIDADE NOME_MICRORREGIAO_UNIDADE  \n",
       "0              Eunápolis               Sul Baiano              Porto Seguro  \n",
       "1             Itapetinga        Centro Sul Baiano                Itapetinga  \n",
       "2         Sena Madureira             Vale do Acre            Sena Madureira  \n",
       "3              Arapiraca         Agreste Alagoano                 Arapiraca  \n",
       "4               Coruripe           Leste Alagoano     São Miguel dos Campos  "
      ]
     },
     "execution_count": 9,
     "metadata": {},
     "output_type": "execute_result"
    }
   ],
   "source": [
    "# Apresentado as 5 primeiras linhas do data frame\n",
    "escolaspronatec.head()"
   ]
  },
  {
   "cell_type": "code",
   "execution_count": 10,
   "metadata": {},
   "outputs": [
    {
     "data": {
      "text/plain": [
       "CODIGO_UNIDADE               618\n",
       "NOME_UNIDADE                 618\n",
       "DT_AUTORIZA_FUNCIONA_UNID    618\n",
       "NOME_REGIAO_UNIDADE          618\n",
       "SIGLA_UF_UNIDADE             618\n",
       "NOME_MUNICIPIO_UNIDADE       618\n",
       "NOME_MESORREGIAO_UNIDADE     618\n",
       "NOME_MICRORREGIAO_UNIDADE    618\n",
       "dtype: int64"
      ]
     },
     "execution_count": 10,
     "metadata": {},
     "output_type": "execute_result"
    }
   ],
   "source": [
    "#Contar quantas linhas existem no data frame, posso ver quantas escolas\n",
    "escolaspronatec.count()"
   ]
  },
  {
   "cell_type": "code",
   "execution_count": 14,
   "metadata": {},
   "outputs": [
    {
     "data": {
      "text/plain": [
       "CODIGO_UNIDADE                int64\n",
       "NOME_UNIDADE                 object\n",
       "DT_AUTORIZA_FUNCIONA_UNID    object\n",
       "NOME_REGIAO_UNIDADE          object\n",
       "SIGLA_UF_UNIDADE             object\n",
       "NOME_MUNICIPIO_UNIDADE       object\n",
       "NOME_MESORREGIAO_UNIDADE     object\n",
       "NOME_MICRORREGIAO_UNIDADE    object\n",
       "dtype: object"
      ]
     },
     "execution_count": 14,
     "metadata": {},
     "output_type": "execute_result"
    }
   ],
   "source": [
    "#O tipo de cada coluna do data frame\n",
    "escolaspronatec.dtypes"
   ]
  },
  {
   "cell_type": "code",
   "execution_count": 15,
   "metadata": {},
   "outputs": [
    {
     "data": {
      "text/html": [
       "<div>\n",
       "<style scoped>\n",
       "    .dataframe tbody tr th:only-of-type {\n",
       "        vertical-align: middle;\n",
       "    }\n",
       "\n",
       "    .dataframe tbody tr th {\n",
       "        vertical-align: top;\n",
       "    }\n",
       "\n",
       "    .dataframe thead th {\n",
       "        text-align: right;\n",
       "    }\n",
       "</style>\n",
       "<table border=\"1\" class=\"dataframe\">\n",
       "  <thead>\n",
       "    <tr style=\"text-align: right;\">\n",
       "      <th></th>\n",
       "      <th>CODIGO_UNIDADE</th>\n",
       "    </tr>\n",
       "  </thead>\n",
       "  <tbody>\n",
       "    <tr>\n",
       "      <th>count</th>\n",
       "      <td>618.000000</td>\n",
       "    </tr>\n",
       "    <tr>\n",
       "      <th>mean</th>\n",
       "      <td>16255.610032</td>\n",
       "    </tr>\n",
       "    <tr>\n",
       "      <th>std</th>\n",
       "      <td>12973.588737</td>\n",
       "    </tr>\n",
       "    <tr>\n",
       "      <th>min</th>\n",
       "      <td>354.000000</td>\n",
       "    </tr>\n",
       "    <tr>\n",
       "      <th>25%</th>\n",
       "      <td>2998.500000</td>\n",
       "    </tr>\n",
       "    <tr>\n",
       "      <th>50%</th>\n",
       "      <td>13840.500000</td>\n",
       "    </tr>\n",
       "    <tr>\n",
       "      <th>75%</th>\n",
       "      <td>30818.250000</td>\n",
       "    </tr>\n",
       "    <tr>\n",
       "      <th>max</th>\n",
       "      <td>44307.000000</td>\n",
       "    </tr>\n",
       "  </tbody>\n",
       "</table>\n",
       "</div>"
      ],
      "text/plain": [
       "       CODIGO_UNIDADE\n",
       "count      618.000000\n",
       "mean     16255.610032\n",
       "std      12973.588737\n",
       "min        354.000000\n",
       "25%       2998.500000\n",
       "50%      13840.500000\n",
       "75%      30818.250000\n",
       "max      44307.000000"
      ]
     },
     "execution_count": 15,
     "metadata": {},
     "output_type": "execute_result"
    }
   ],
   "source": [
    "#Descreve as colunas númericas do data frame\n",
    "escolaspronatec.describe()"
   ]
  },
  {
   "cell_type": "code",
   "execution_count": 16,
   "metadata": {},
   "outputs": [
    {
     "data": {
      "text/plain": [
       "Nordeste        202\n",
       "Sudeste         163\n",
       "Sul             116\n",
       "Norte            70\n",
       "Centro-Oeste     67\n",
       "Name: NOME_REGIAO_UNIDADE, dtype: int64"
      ]
     },
     "execution_count": 16,
     "metadata": {},
     "output_type": "execute_result"
    }
   ],
   "source": [
    "#Quantas escolas existem em cada região do Brasil (Quantidade de linhas da coluna)\n",
    "escolaspronatec['NOME_REGIAO_UNIDADE'].value_counts()"
   ]
  },
  {
   "cell_type": "code",
   "execution_count": 17,
   "metadata": {},
   "outputs": [
    {
     "data": {
      "text/plain": [
       "MG    67\n",
       "RS    45\n",
       "RJ    39\n",
       "SC    36\n",
       "PR    35\n",
       "SP    35\n",
       "BA    34\n",
       "MA    27\n",
       "CE    27\n",
       "GO    26\n",
       "RN    23\n",
       "PE    23\n",
       "PI    23\n",
       "ES    22\n",
       "PB    21\n",
       "PA    20\n",
       "MT    19\n",
       "AL    16\n",
       "AM    15\n",
       "TO    11\n",
       "MS    11\n",
       "DF    11\n",
       "SE     8\n",
       "RO     8\n",
       "AC     6\n",
       "RR     6\n",
       "AP     4\n",
       "Name: SIGLA_UF_UNIDADE, dtype: int64"
      ]
     },
     "execution_count": 17,
     "metadata": {},
     "output_type": "execute_result"
    }
   ],
   "source": [
    "#Quantas escolas tem em cada estado (Quantidade de linhas da coluna)\n",
    "escolaspronatec['SIGLA_UF_UNIDADE'].value_counts()"
   ]
  },
  {
   "cell_type": "code",
   "execution_count": 18,
   "metadata": {},
   "outputs": [],
   "source": [
    "#Fazendo o grafico\n",
    "#Grafico dentro do notebook\n",
    "%matplotlib inline"
   ]
  },
  {
   "cell_type": "code",
   "execution_count": 21,
   "metadata": {},
   "outputs": [
    {
     "data": {
      "text/plain": [
       "<matplotlib.axes._subplots.AxesSubplot at 0x22c53bc7048>"
      ]
     },
     "execution_count": 21,
     "metadata": {},
     "output_type": "execute_result"
    },
    {
     "data": {
      "image/png": "[encoded data removed]",
      "text/plain": [
       "<Figure size 432x288 with 1 Axes>"
      ]
     },
     "metadata": {
      "needs_background": "light"
     },
     "output_type": "display_data"
    }
   ],
   "source": [
    "#Escolas de UF no grafico de Barras\n",
    "escolaspronatec['SIGLA_UF_UNIDADE'].value_counts().plot.bar()"
   ]
  },
  {
   "cell_type": "code",
   "execution_count": null,
   "metadata": {},
   "outputs": [],
   "source": []
  }
 ],
 "metadata": {
  "kernelspec": {
   "display_name": "Python 3",
   "language": "python",
   "name": "python3"
  },
  "language_info": {
   "codemirror_mode": {
    "name": "ipython",
    "version": 3
   },
   "file_extension": ".py",
   "mimetype": "text/x-python",
   "name": "python",
   "nbconvert_exporter": "python",
   "pygments_lexer": "ipython3",
   "version": "3.7.6"
  }
 },
 "nbformat": 4,
 "nbformat_minor": 4
}
